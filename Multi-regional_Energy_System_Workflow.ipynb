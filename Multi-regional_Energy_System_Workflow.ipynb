{
 "cells": [
  {
   "cell_type": "markdown",
   "metadata": {},
   "source": [
    "# Workflow for a multi-regional energy system\n",
    "\n",
    "In this application of the FINE framework, a multi-regional energy system is modeled and optimized.\n",
    "\n",
    "All classes which are available to the user are utilized and examples of the selection of different parameters within these classes are given.\n",
    "\n",
    "The workflow is structures as follows:\n",
    "1. Required packages are imported and the input data path is set\n",
    "2. An energy system model instance is created\n",
    "3. Commodity sources are added to the energy system model\n",
    "4. Commodity conversion components are added to the energy system model\n",
    "5. Commodity storages are added to the energy system model\n",
    "6. Commodity transmission components are added to the energy system model\n",
    "7. Commodity sinks are added to the energy system model\n",
    "8. The energy system model is optimized\n",
    "9. Selected optimization results are presented\n"
   ]
  },
  {
   "cell_type": "markdown",
   "metadata": {},
   "source": [
    "# 1. Import required packages and set input data path\n",
    "\n",
    "The FINE framework is imported which provides the required classes and functions for modeling the energy system."
   ]
  },
  {
   "cell_type": "code",
   "execution_count": 242,
   "metadata": {},
   "outputs": [
    {
     "name": "stdout",
     "output_type": "stream",
     "text": [
      "The autoreload extension is already loaded. To reload it, use:\n",
      "  %reload_ext autoreload\n"
     ]
    }
   ],
   "source": [
    "import scipy\n",
    "import FINE as fn\n",
    "import matplotlib.pyplot as plt\n",
    "from getData import getData\n",
    "import pandas as pd\n",
    "import os\n",
    "\n",
    "cwd = os.getcwd()\n",
    "data = getData()\n",
    "\n",
    "%matplotlib inline  \n",
    "%load_ext autoreload\n",
    "%autoreload 2"
   ]
  },
  {
   "cell_type": "markdown",
   "metadata": {},
   "source": [
    "# 2. Create an energy system model instance \n",
    "\n",
    "The structure of the energy system model is given by the considered locations, commodities, the number of time steps as well as the hours per time step.\n",
    "\n",
    "The commodities are specified by a unit (i.e. 'GW_electric', 'GW_H2lowerHeatingValue', 'Mio. t CO2/h') which can be given as an energy or mass unit per hour. Furthermore, the cost unit and length unit are specified."
   ]
  },
  {
   "cell_type": "code",
   "execution_count": 243,
   "metadata": {},
   "outputs": [],
   "source": [
    "locations = {'cluster_0', 'cluster_1', 'cluster_2', 'cluster_3', 'cluster_4', 'cluster_5', 'cluster_6', 'cluster_7'}\n",
    "commodityUnitDict = {'electricity': r'GW$_{el}$', 'methane': r'GW$_{CH_{4},LHV}$', 'biogas': r'GW$_{biogas,LHV}$',\n",
    "                     'CO2': r'Mio. t$_{CO_2}$/h', 'hydrogen': r'GW$_{H_{2},LHV}$'}\n",
    "commodities = {'electricity', 'hydrogen', 'methane', 'biogas', 'CO2'}\n",
    "numberOfTimeSteps=8760\n",
    "hoursPerTimeStep=1"
   ]
  },
  {
   "cell_type": "code",
   "execution_count": 244,
   "metadata": {},
   "outputs": [],
   "source": [
    "esM = fn.EnergySystemModel(locations=locations, commodities=commodities, numberOfTimeSteps=8760,\n",
    "                           commodityUnitsDict=commodityUnitDict,\n",
    "                           hoursPerTimeStep=1, costUnit='1e9 Euro', lengthUnit='km', verboseLogLevel=0)"
   ]
  },
  {
   "cell_type": "code",
   "execution_count": 245,
   "metadata": {},
   "outputs": [],
   "source": [
    "# Values are [0.75, 0.8, 0.85, 0.9, 0.95, 1]\n",
    "CO2_reductionTarget = 0.95"
   ]
  },
  {
   "cell_type": "markdown",
   "metadata": {},
   "source": [
    "# 3. Add commodity sources to the energy system model"
   ]
  },
  {
   "cell_type": "markdown",
   "metadata": {},
   "source": [
    "## 3.1. Electricity sources"
   ]
  },
  {
   "cell_type": "markdown",
   "metadata": {},
   "source": [
    "### Wind onshore"
   ]
  },
  {
   "cell_type": "code",
   "execution_count": 246,
   "metadata": {},
   "outputs": [],
   "source": [
    "esM.add(fn.Source(esM=esM, name='Wind (onshore)', commodity='electricity', hasCapacityVariable=True,\n",
    "                  operationRateMax=data['Wind (onshore), operationRateMax'],\n",
    "                  capacityMax=data['Wind (onshore), capacityMax'],\n",
    "                  investPerCapacity=1.1, opexPerCapacity=1.1*0.02, interestRate=0.08,\n",
    "                  economicLifetime=20))"
   ]
  },
  {
   "cell_type": "markdown",
   "metadata": {},
   "source": [
    "Full load hours:"
   ]
  },
  {
   "cell_type": "code",
   "execution_count": 247,
   "metadata": {},
   "outputs": [
    {
     "data": {
      "text/plain": "cluster_0    1572.003960\ncluster_1    2350.292663\ncluster_2    2374.507270\ncluster_3    2186.572278\ncluster_4    1572.650655\ncluster_5    1767.840650\ncluster_6    2719.564564\ncluster_7    1553.045964\ndtype: float64"
     },
     "execution_count": 247,
     "metadata": {},
     "output_type": "execute_result"
    }
   ],
   "source": [
    "data['Wind (onshore), operationRateMax'].sum()"
   ]
  },
  {
   "cell_type": "markdown",
   "metadata": {},
   "source": [
    "### Wind offshore"
   ]
  },
  {
   "cell_type": "code",
   "execution_count": 248,
   "metadata": {},
   "outputs": [],
   "source": [
    "esM.add(fn.Source(esM=esM, name='Wind (offshore)', commodity='electricity', hasCapacityVariable=True,\n",
    "                  operationRateMax=data['Wind (offshore), operationRateMax'],\n",
    "                  capacityMax=data['Wind (offshore), capacityMax'],\n",
    "                  investPerCapacity=2.3, opexPerCapacity=2.3*0.02, interestRate=0.08,\n",
    "                  economicLifetime=20))"
   ]
  },
  {
   "cell_type": "markdown",
   "metadata": {},
   "source": [
    "Full load hours:"
   ]
  },
  {
   "cell_type": "code",
   "execution_count": 249,
   "metadata": {},
   "outputs": [
    {
     "data": {
      "text/plain": "cluster_0       0.000000\ncluster_1    4435.420314\ncluster_2    4301.655834\ncluster_3    3902.391858\ncluster_4       0.000000\ncluster_5       0.000000\ncluster_6    4609.508396\ncluster_7       0.000000\ndtype: float64"
     },
     "execution_count": 249,
     "metadata": {},
     "output_type": "execute_result"
    }
   ],
   "source": [
    "data['Wind (offshore), operationRateMax'].sum()"
   ]
  },
  {
   "cell_type": "markdown",
   "metadata": {},
   "source": [
    "### PV"
   ]
  },
  {
   "cell_type": "code",
   "execution_count": 250,
   "metadata": {},
   "outputs": [],
   "source": [
    "esM.add(fn.Source(esM=esM, name='PV', commodity='electricity', hasCapacityVariable=True,\n",
    "                  operationRateMax=data['PV, operationRateMax'], capacityMax=data['PV, capacityMax'],\n",
    "                  investPerCapacity=0.65, opexPerCapacity=0.65*0.02, interestRate=0.08,\n",
    "                  economicLifetime=25))"
   ]
  },
  {
   "cell_type": "markdown",
   "metadata": {},
   "source": [
    "Full load hours:"
   ]
  },
  {
   "cell_type": "code",
   "execution_count": 251,
   "metadata": {},
   "outputs": [
    {
     "data": {
      "text/plain": "cluster_0    1113.216464\ncluster_1    1053.579422\ncluster_2    1058.005181\ncluster_3    1079.872237\ncluster_4    1140.407380\ncluster_5    1051.848141\ncluster_6    1069.843344\ncluster_7    1085.697466\ndtype: float64"
     },
     "execution_count": 251,
     "metadata": {},
     "output_type": "execute_result"
    }
   ],
   "source": [
    "data['PV, operationRateMax'].sum()"
   ]
  },
  {
   "cell_type": "markdown",
   "metadata": {},
   "source": [
    "### Exisisting run-of-river hydroelectricity plants"
   ]
  },
  {
   "cell_type": "code",
   "execution_count": 252,
   "metadata": {},
   "outputs": [],
   "source": [
    "# TODO Entfernen? Wir haben nur Wind On+Off & PV\n",
    "esM.add(fn.Source(esM=esM, name='Existing run-of-river plants', commodity='electricity',\n",
    "                  hasCapacityVariable=True,\n",
    "                  operationRateFix=data['Existing run-of-river plants, operationRateFix'], tsaWeight=0.01,\n",
    "                  capacityFix=data['Existing run-of-river plants, capacityFix'],\n",
    "                  investPerCapacity=0, opexPerCapacity=0.208))"
   ]
  },
  {
   "cell_type": "markdown",
   "metadata": {},
   "source": [
    "## 3.2. Methane (natural gas and biogas)"
   ]
  },
  {
   "cell_type": "markdown",
   "metadata": {},
   "source": [
    "### Natural gas"
   ]
  },
  {
   "cell_type": "code",
   "execution_count": 253,
   "metadata": {},
   "outputs": [],
   "source": [
    "# TODO Brauchen wir das als Energiequelle, oder wandeln wir alles selber um?\n",
    "esM.add(fn.Source(esM=esM, name='Natural gas purchase', commodity='methane',\n",
    "                  hasCapacityVariable=False, commodityCost=0.0331*1e-3))"
   ]
  },
  {
   "cell_type": "markdown",
   "metadata": {},
   "source": [
    "### Biogas"
   ]
  },
  {
   "cell_type": "code",
   "execution_count": 254,
   "metadata": {},
   "outputs": [],
   "source": [
    "# TODO Brauchen wir das als Energiequelle, oder wandeln wir alles selber um?\n",
    "esM.add(fn.Source(esM=esM, name='Biogas purchase', commodity='biogas',\n",
    "                  operationRateMax=data['Biogas, operationRateMax'], hasCapacityVariable=False,\n",
    "                  commodityCost=0.05409*1e-3))"
   ]
  },
  {
   "cell_type": "markdown",
   "metadata": {},
   "source": [
    "# 4. Add conversion components to the energy system model"
   ]
  },
  {
   "cell_type": "markdown",
   "metadata": {},
   "source": [
    "### Combined cycle gas turbine plants"
   ]
  },
  {
   "cell_type": "code",
   "execution_count": 255,
   "metadata": {},
   "outputs": [],
   "source": [
    "# TODO Wir brauchen kein Methan, oder?\n",
    "esM.add(fn.Conversion(esM=esM, name='CCGT plants (methane)', physicalUnit=r'GW$_{el}$',\n",
    "                      commodityConversionFactors={'electricity':1, 'methane':-1/0.6, 'CO2':201*1e-6/0.6},\n",
    "                      hasCapacityVariable=True,\n",
    "                      investPerCapacity=0.65, opexPerCapacity=0.021, interestRate=0.08,\n",
    "                      economicLifetime=33))"
   ]
  },
  {
   "cell_type": "markdown",
   "metadata": {},
   "source": [
    "### New combined cycle gas turbine plants for biogas"
   ]
  },
  {
   "cell_type": "code",
   "execution_count": 256,
   "metadata": {},
   "outputs": [],
   "source": [
    "# TODO Wir brauchen kein Methan, oder?\n",
    "esM.add(fn.Conversion(esM=esM, name='New CCGT plants (biogas)', physicalUnit=r'GW$_{el}$',\n",
    "                      commodityConversionFactors={'electricity':1, 'biogas':-1/0.63},\n",
    "                      hasCapacityVariable=True, \n",
    "                      investPerCapacity=0.7, opexPerCapacity=0.021, interestRate=0.08,\n",
    "                      economicLifetime=33))"
   ]
  },
  {
   "cell_type": "markdown",
   "metadata": {},
   "source": [
    "### New combined cycly gas turbines for hydrogen"
   ]
  },
  {
   "cell_type": "code",
   "execution_count": 257,
   "metadata": {},
   "outputs": [],
   "source": [
    "esM.add(fn.Conversion(esM=esM, name='New CCGT plants (hydrogen)', physicalUnit=r'GW$_{el}$',\n",
    "                      commodityConversionFactors={'electricity':1, 'hydrogen':-1/0.63},\n",
    "                      hasCapacityVariable=True, \n",
    "                      investPerCapacity=0.7, opexPerCapacity=0.021, interestRate=0.08,\n",
    "                      economicLifetime=33))"
   ]
  },
  {
   "cell_type": "markdown",
   "metadata": {},
   "source": [
    "### Electrolyzers"
   ]
  },
  {
   "cell_type": "code",
   "execution_count": 258,
   "metadata": {},
   "outputs": [],
   "source": [
    "esM.add(fn.Conversion(esM=esM, name='Electrolyzer', physicalUnit=r'GW$_{el}$',\n",
    "                      commodityConversionFactors={'electricity':-1, 'hydrogen':0.7},\n",
    "                      hasCapacityVariable=True, \n",
    "                      investPerCapacity=0.5, opexPerCapacity=0.5*0.025, interestRate=0.08,\n",
    "                      economicLifetime=10))"
   ]
  },
  {
   "cell_type": "markdown",
   "metadata": {},
   "source": [
    "### rSOC"
   ]
  },
  {
   "cell_type": "code",
   "execution_count": 259,
   "metadata": {},
   "outputs": [],
   "source": [
    "capexRSOC=1.5\n",
    "\n",
    "esM.add(fn.Conversion(esM=esM, name='rSOEC', physicalUnit=r'GW$_{el}$', linkedConversionCapacityID='rSOC',\n",
    "                      commodityConversionFactors={'electricity':-1, 'hydrogen':0.6},\n",
    "                      hasCapacityVariable=True, \n",
    "                      investPerCapacity=capexRSOC/2, opexPerCapacity=capexRSOC*0.02/2, interestRate=0.08,\n",
    "                      economicLifetime=10))\n",
    "\n",
    "esM.add(fn.Conversion(esM=esM, name='rSOFC', physicalUnit=r'GW$_{el}$', linkedConversionCapacityID='rSOC',\n",
    "                      commodityConversionFactors={'electricity':1, 'hydrogen':-1/0.6},\n",
    "                      hasCapacityVariable=True, \n",
    "                      investPerCapacity=capexRSOC/2, opexPerCapacity=capexRSOC*0.02/2, interestRate=0.08,\n",
    "                      economicLifetime=10))"
   ]
  },
  {
   "cell_type": "markdown",
   "metadata": {},
   "source": [
    "# 5. Add commodity storages to the energy system model"
   ]
  },
  {
   "cell_type": "markdown",
   "metadata": {},
   "source": [
    "## 5.1. Electricity storage"
   ]
  },
  {
   "cell_type": "markdown",
   "metadata": {},
   "source": [
    "### Lithium ion batteries\n",
    "\n",
    "The self discharge of a lithium ion battery is here described as 3% per month. The self discharge per hours is obtained using the equation (1-$\\text{selfDischarge}_\\text{hour})^{30*24\\text{h}} = 1-\\text{selfDischarge}_\\text{month}$."
   ]
  },
  {
   "cell_type": "code",
   "execution_count": 260,
   "metadata": {},
   "outputs": [],
   "source": [
    "esM.add(fn.Storage(esM=esM, name='Li-ion batteries', commodity='electricity',\n",
    "                   hasCapacityVariable=True, chargeEfficiency=0.95,\n",
    "                   cyclicLifetime=10000, dischargeEfficiency=0.95, selfDischarge=1-(1-0.03)**(1/(30*24)),\n",
    "                   chargeRate=1, dischargeRate=1, doPreciseTsaModeling=False,\n",
    "                   investPerCapacity=0.151, opexPerCapacity=0.002, interestRate=0.08,\n",
    "                   economicLifetime=22))"
   ]
  },
  {
   "cell_type": "markdown",
   "metadata": {},
   "source": [
    "## 5.2. Hydrogen storage"
   ]
  },
  {
   "cell_type": "markdown",
   "metadata": {},
   "source": [
    "### Hydrogen filled salt caverns\n",
    "The maximum capacity is here obtained by: dividing the given capacity (which is given for methane) by the lower heating value of methane and then multiplying it with the lower heating value of hydrogen."
   ]
  },
  {
   "cell_type": "code",
   "execution_count": 261,
   "metadata": {},
   "outputs": [],
   "source": [
    "esM.add(fn.Storage(esM=esM, name='Salt caverns (hydrogen)', commodity='hydrogen',\n",
    "                   hasCapacityVariable=True, capacityVariableDomain='continuous',\n",
    "                   capacityPerPlantUnit=133,\n",
    "                   chargeRate=1/470.37, dischargeRate=1/470.37, sharedPotentialID='Existing salt caverns',\n",
    "                   stateOfChargeMin=0.33, stateOfChargeMax=1, capacityMax=data['Salt caverns (hydrogen), capacityMax'],\n",
    "                   investPerCapacity=0.00011, opexPerCapacity=0.00057, interestRate=0.08,\n",
    "                   economicLifetime=30))"
   ]
  },
  {
   "cell_type": "markdown",
   "metadata": {},
   "source": [
    "## 5.3. Methane storage"
   ]
  },
  {
   "cell_type": "markdown",
   "metadata": {},
   "source": [
    "### Methane filled salt caverns"
   ]
  },
  {
   "cell_type": "code",
   "execution_count": 262,
   "metadata": {},
   "outputs": [],
   "source": [
    "# TODO Wir brauchen kein Methan, oder?\n",
    "esM.add(fn.Storage(esM=esM, name='Salt caverns (biogas)', commodity='biogas',\n",
    "                   hasCapacityVariable=True, capacityVariableDomain='continuous',\n",
    "                   capacityPerPlantUnit=443,\n",
    "                   chargeRate=1/470.37, dischargeRate=1/470.37, sharedPotentialID='Existing salt caverns',\n",
    "                   stateOfChargeMin=0.33, stateOfChargeMax=1, capacityMax=data['Salt caverns (methane), capacityMax'],\n",
    "                   investPerCapacity=0.00004, opexPerCapacity=0.00001, interestRate=0.08,\n",
    "                   economicLifetime=30))"
   ]
  },
  {
   "cell_type": "markdown",
   "metadata": {},
   "source": [
    "## 5.4 Pumped hydro storage"
   ]
  },
  {
   "cell_type": "markdown",
   "metadata": {},
   "source": [
    "### Pumped hydro storage"
   ]
  },
  {
   "cell_type": "code",
   "execution_count": 263,
   "metadata": {},
   "outputs": [],
   "source": [
    "esM.add(fn.Storage(esM=esM, name='Pumped hydro storage', commodity='electricity',\n",
    "                   chargeEfficiency=0.88, dischargeEfficiency=0.88,\n",
    "                   hasCapacityVariable=True, selfDischarge=1-(1-0.00375)**(1/(30*24)),\n",
    "                   chargeRate=0.16, dischargeRate=0.12, capacityFix=data['Pumped hydro storage, capacityFix'],\n",
    "                   investPerCapacity=0, opexPerCapacity=0.000153))"
   ]
  },
  {
   "cell_type": "markdown",
   "metadata": {},
   "source": [
    "# 6. Add commodity transmission components to the energy system model"
   ]
  },
  {
   "cell_type": "markdown",
   "metadata": {},
   "source": [
    "## 6.1. Electricity transmission"
   ]
  },
  {
   "cell_type": "markdown",
   "metadata": {},
   "source": [
    "### AC cables"
   ]
  },
  {
   "cell_type": "markdown",
   "metadata": {},
   "source": [
    "esM.add(fn.LinearOptimalPowerFlow(esM=esM, name='AC cables', commodity='electricity',\n",
    "                                  hasCapacityVariable=True, capacityFix=data['AC cables, capacityFix'],\n",
    "                                  reactances=data['AC cables, reactances']))"
   ]
  },
  {
   "cell_type": "code",
   "execution_count": 264,
   "metadata": {},
   "outputs": [
    {
     "name": "stdout",
     "output_type": "stream",
     "text": [
      "The distances of a component are set to a normalized value of 1.\n"
     ]
    }
   ],
   "source": [
    "esM.add(fn.Transmission(esM=esM, name='AC cables', commodity='electricity',\n",
    "                                  hasCapacityVariable=True, capacityFix=data['AC cables, capacityFix']))"
   ]
  },
  {
   "cell_type": "markdown",
   "metadata": {},
   "source": [
    "### DC cables"
   ]
  },
  {
   "cell_type": "code",
   "execution_count": 265,
   "metadata": {},
   "outputs": [],
   "source": [
    "esM.add(fn.Transmission(esM=esM, name='DC cables', commodity='electricity', losses=data['DC cables, losses'],\n",
    "                        distances=data['DC cables, distances'],\n",
    "                        hasCapacityVariable=True, capacityFix=data['DC cables, capacityFix']))"
   ]
  },
  {
   "cell_type": "markdown",
   "metadata": {},
   "source": [
    "## 6.2 Methane transmission"
   ]
  },
  {
   "cell_type": "markdown",
   "metadata": {},
   "source": [
    "### Methane pipeline"
   ]
  },
  {
   "cell_type": "code",
   "execution_count": 266,
   "metadata": {
    "scrolled": true
   },
   "outputs": [],
   "source": [
    "# TODO Wir brauchen kein Methan, oder?\n",
    "esM.add(fn.Transmission(esM=esM, name='Pipelines (biogas)', commodity='biogas', \n",
    "                        distances=data['Pipelines, distances'],\n",
    "                        hasCapacityVariable=True, hasIsBuiltBinaryVariable=True, bigM=300,\n",
    "                        locationalEligibility=data['Pipelines, eligibility'],\n",
    "                        capacityMax=data['Pipelines, eligibility']*15, sharedPotentialID='pipelines',\n",
    "                        investPerCapacity=0.000037, investIfBuilt=0.000314,\n",
    "                        interestRate=0.08, economicLifetime=40))"
   ]
  },
  {
   "cell_type": "markdown",
   "metadata": {},
   "source": [
    "## 6.3 Hydrogen transmission"
   ]
  },
  {
   "cell_type": "markdown",
   "metadata": {},
   "source": [
    "### Hydrogen pipelines"
   ]
  },
  {
   "cell_type": "code",
   "execution_count": 267,
   "metadata": {
    "scrolled": true
   },
   "outputs": [],
   "source": [
    "esM.add(fn.Transmission(esM=esM, name='Pipelines (hydrogen)', commodity='hydrogen',\n",
    "                        distances=data['Pipelines, distances'],\n",
    "                        hasCapacityVariable=True, hasIsBuiltBinaryVariable=True, bigM=300,\n",
    "                        locationalEligibility=data['Pipelines, eligibility'],\n",
    "                        capacityMax=data['Pipelines, eligibility']*15, sharedPotentialID='pipelines',\n",
    "                        investPerCapacity=0.000177, investIfBuilt=0.00033,\n",
    "                        interestRate=0.08, economicLifetime=40))"
   ]
  },
  {
   "cell_type": "markdown",
   "metadata": {},
   "source": [
    "# 7. Add commodity sinks to the energy system model"
   ]
  },
  {
   "cell_type": "markdown",
   "metadata": {},
   "source": [
    "## 7.1. Electricity sinks"
   ]
  },
  {
   "cell_type": "markdown",
   "metadata": {},
   "source": [
    "### Electricity demand"
   ]
  },
  {
   "cell_type": "code",
   "execution_count": 268,
   "metadata": {},
   "outputs": [],
   "source": [
    "esM.add(fn.Sink(esM=esM, name='Electricity demand', commodity='electricity',\n",
    "                hasCapacityVariable=False, operationRateFix=data['Electricity demand, operationRateFix']))"
   ]
  },
  {
   "cell_type": "markdown",
   "metadata": {},
   "source": [
    "## 7.2. Hydrogen sinks"
   ]
  },
  {
   "cell_type": "markdown",
   "metadata": {},
   "source": [
    "### Fuel cell electric vehicle (FCEV) demand"
   ]
  },
  {
   "cell_type": "code",
   "execution_count": 269,
   "metadata": {},
   "outputs": [],
   "source": [
    "FCEV_penetration=0.5\n",
    "esM.add(fn.Sink(esM=esM, name='Hydrogen demand', commodity='hydrogen', hasCapacityVariable=False,\n",
    "                operationRateFix=data['Hydrogen demand, operationRateFix']*FCEV_penetration))"
   ]
  },
  {
   "cell_type": "markdown",
   "metadata": {},
   "source": [
    "## 7.3. CO2 sinks"
   ]
  },
  {
   "cell_type": "markdown",
   "metadata": {},
   "source": [
    "### CO2 exiting the system's boundary"
   ]
  },
  {
   "cell_type": "code",
   "execution_count": 270,
   "metadata": {},
   "outputs": [],
   "source": [
    "esM.add(fn.Sink(esM=esM, name='CO2 to enviroment', commodity='CO2',\n",
    "                hasCapacityVariable=False, commodityLimitID='CO2 limit', yearlyLimit=366*(1-CO2_reductionTarget)))"
   ]
  },
  {
   "cell_type": "markdown",
   "metadata": {},
   "source": [
    "# 8. Optimize energy system model"
   ]
  },
  {
   "cell_type": "markdown",
   "metadata": {},
   "source": [
    "All components are now added to the model and the model can be optimized. If the computational complexity of the optimization should be reduced, the time series data of the specified components can be clustered before the optimization and the parameter timeSeriesAggregation is set to True in the optimize call."
   ]
  },
  {
   "cell_type": "code",
   "execution_count": 271,
   "metadata": {
    "tags": [
     "nbval-skip"
    ]
   },
   "outputs": [
    {
     "name": "stdout",
     "output_type": "stream",
     "text": [
      "\n",
      "Clustering time series data with 7 typical periods and 24 time steps per period...\n",
      "\t\t(0.9610 sec)\n",
      "\n"
     ]
    },
    {
     "name": "stderr",
     "output_type": "stream",
     "text": [
      " c:\\programdata\\anaconda3\\envs\\gas-wasserstoff2\\lib\\site-packages\\tsam\\timeseriesaggregation.py:897: UserWarning:Something went wrong: At least one maximal value of the aggregated time series exceeds the maximal value the input time series\n"
     ]
    }
   ],
   "source": [
    "esM.cluster(numberOfTypicalPeriods=7)"
   ]
  },
  {
   "cell_type": "code",
   "execution_count": 272,
   "metadata": {
    "scrolled": true,
    "tags": [
     "nbval-skip"
    ]
   },
   "outputs": [
    {
     "name": "stdout",
     "output_type": "stream",
     "text": [
      "Time series aggregation specifications:\n",
      "Number of typical periods:7, number of time steps per period:24\n",
      "\n",
      "Declaring sets, variables and constraints for SourceSinkModel\n",
      "\tdeclaring sets... \n",
      "\tdeclaring variables... \n",
      "\tdeclaring constraints... \n",
      "\t\t(0.3765 sec)\n",
      "\n",
      "Declaring sets, variables and constraints for ConversionModel\n",
      "\tdeclaring sets... \n",
      "\tdeclaring variables... \n",
      "\tdeclaring constraints... \n",
      "\t\t(0.1295 sec)\n",
      "\n",
      "Declaring sets, variables and constraints for StorageModel\n",
      "\tdeclaring sets... \n",
      "\tdeclaring variables... \n",
      "\tdeclaring constraints... \n",
      "\t\t(1.5745 sec)\n",
      "\n",
      "Declaring sets, variables and constraints for TransmissionModel\n",
      "\tdeclaring sets... \n",
      "\tdeclaring variables... \n",
      "\tdeclaring constraints... \n",
      "\t\t(0.3890 sec)\n",
      "\n",
      "Declaring shared potential constraint...\n",
      "\t\t(0.0020 sec)\n",
      "\n",
      "Declaring linked component quantity constraint...\n",
      "\t\t(0.0000 sec)\n",
      "\n",
      "Declaring commodity balances...\n",
      "\t\t(0.5700 sec)\n",
      "\n",
      "\t\t(0.0005 sec)\n",
      "\n",
      "Declaring objective function...\n",
      "\t\t(0.2120 sec)\n",
      "\n",
      "Academic license - for non-commercial use only - expires 2021-12-30\n",
      "Using license file C:\\Users\\Paul\\gurobi.lic\n",
      "Read LP format model from file C:\\Users\\Paul\\AppData\\Local\\Temp\\tmpsq5xpkqb.pyomo.lp\n",
      "Reading time = 0.33 seconds\n",
      "x96946: 85942 rows, 55618 columns, 264787 nonzeros\n",
      "Changed value of parameter QCPDual to 1\n",
      "   Prev: 0  Min: 0  Max: 1  Default: 0\n",
      "Changed value of parameter Threads to 3\n",
      "   Prev: 0  Min: 0  Max: 1024  Default: 0\n",
      "Parameter logfile unchanged\n",
      "   Value:   Default: \n",
      "Changed value of parameter OptimalityTol to 0.001\n",
      "   Prev: 1e-06  Min: 1e-09  Max: 0.01  Default: 1e-06\n",
      "Changed value of parameter method to 2\n",
      "   Prev: -1  Min: -1  Max: 5  Default: -1\n",
      "Changed value of parameter cuts to 0\n",
      "   Prev: -1  Min: -1  Max: 3  Default: -1\n",
      "Gurobi Optimizer version 9.1.2 build v9.1.2rc0 (win64)\n",
      "Thread count: 4 physical cores, 8 logical processors, using up to 3 threads\n",
      "Optimize a model with 85942 rows, 55618 columns and 264787 nonzeros\n",
      "Model fingerprint: 0x1e104a31\n",
      "Variable types: 55566 continuous, 52 integer (52 binary)\n",
      "Coefficient statistics:\n",
      "  Matrix range     [2e-06, 5e+02]\n",
      "  Objective range  [1e-05, 3e-01]\n",
      "  Bounds range     [1e+00, 1e+05]\n",
      "  RHS range        [4e-02, 3e+01]\n",
      "Presolve removed 24794 rows and 13791 columns\n",
      "Presolve time: 0.33s\n",
      "Presolved: 61148 rows, 41827 columns, 212766 nonzeros\n",
      "Variable types: 41801 continuous, 26 integer (26 binary)\n",
      "Root barrier log...\n",
      "\n",
      "Ordering time: 0.71s\n",
      "\n",
      "Barrier statistics:\n",
      " Dense cols : 196\n",
      " Free vars  : 1288\n",
      " AA' NZ     : 1.235e+06\n",
      " Factor NZ  : 6.968e+06 (roughly 100 MBytes of memory)\n",
      " Factor Ops : 3.826e+09 (less than 1 second per iteration)\n",
      " Threads    : 3\n",
      "\n",
      "                  Objective                Residual\n",
      "Iter       Primal          Dual         Primal    Dual     Compl     Time\n",
      "   0   4.66854727e+05 -2.39479752e+06  1.97e+06 1.38e-02  2.28e+03     1s\n",
      "   1   4.01885100e+05 -2.31120299e+06  1.38e+06 2.05e-01  1.48e+03     2s\n",
      "   2   2.95292423e+05 -2.06921158e+06  9.48e+05 9.30e-02  9.75e+02     2s\n",
      "   3   1.01043865e+05 -1.56527228e+06  2.47e+05 2.67e-02  2.78e+02     2s\n",
      "   4   3.78851593e+04 -7.16794036e+05  4.10e+04 1.60e-03  4.46e+01     2s\n",
      "   5   2.24433799e+04 -2.18344648e+05  1.04e+04 8.37e-04  1.08e+01     2s\n",
      "   6   9.42576498e+03 -1.31895806e+05  1.59e+03 4.32e-04  2.57e+00     2s\n",
      "   7   4.09425539e+03 -2.98446521e+04  2.27e+02 4.66e-04  4.12e-01     2s\n",
      "   8   1.47591846e+03 -8.57793254e+03  5.22e+01 1.43e-04  9.75e-02     2s\n",
      "   9   5.67132292e+02 -3.28274766e+03  1.41e+01 2.18e-04  3.38e-02     2s\n",
      "  10   3.86016255e+02 -1.52975698e+03  7.09e+00 1.28e-04  1.64e-02     3s\n",
      "  11   2.33971163e+02 -9.06152486e+02  2.28e+00 8.32e-05  9.52e-03     3s\n",
      "  12   1.93882079e+02 -5.72936668e+02  1.34e+00 5.26e-05  6.37e-03     3s\n",
      "  13   1.18906647e+02 -1.47077959e+02  1.60e-01 5.66e-05  2.19e-03     3s\n",
      "  14   8.04030991e+01 -2.36141531e+00  5.88e-02 1.90e-05  6.81e-04     3s\n",
      "  15   6.58583551e+01  1.47816953e+01  2.01e-03 1.25e-05  4.20e-04     3s\n",
      "  16   6.13476338e+01  2.19176711e+01  1.46e-03 9.89e-06  3.24e-04     3s\n",
      "  17   5.97513275e+01  2.81713661e+01  1.28e-03 7.55e-06  2.59e-04     3s\n",
      "  18   5.68021660e+01  3.38022526e+01  9.26e-04 5.43e-06  1.89e-04     3s\n",
      "  19   5.32608066e+01  3.97817435e+01  5.14e-04 2.96e-06  1.11e-04     3s\n",
      "  20   5.03717194e+01  4.33493934e+01  1.85e-04 1.67e-06  5.76e-05     4s\n",
      "  21   4.94363803e+01  4.47488483e+01  9.93e-05 1.10e-06  3.85e-05     4s\n",
      "  22   4.88248612e+01  4.55888275e+01  4.95e-05 8.13e-07  2.66e-05     4s\n",
      "  23   4.84598148e+01  4.64448935e+01  2.52e-05 5.03e-07  1.65e-05     4s\n",
      "  24   4.82676581e+01  4.68092015e+01  1.53e-05 3.75e-07  1.20e-05     4s\n",
      "  25   4.81543172e+01  4.72850570e+01  9.88e-06 2.11e-07  7.13e-06     4s\n",
      "  26   4.80402917e+01  4.76717602e+01  4.67e-06 7.85e-08  3.02e-06     4s\n",
      "  27   4.79775984e+01  4.78424830e+01  2.17e-06 2.94e-08  1.11e-06     4s\n",
      "  28   4.79505414e+01  4.78927246e+01  1.11e-06 1.18e-08  4.75e-07     5s\n",
      "  29   4.79390123e+01  4.79005505e+01  6.89e-07 8.62e-09  3.16e-07     5s\n",
      "  30   4.79279904e+01  4.79069810e+01  2.98e-07 5.87e-09  1.72e-07     5s\n",
      "  31   4.79266778e+01  4.79103444e+01  2.56e-07 4.24e-09  1.34e-07     5s\n",
      "  32   4.79202675e+01  4.79158867e+01  3.54e-08 2.96e-09  3.60e-08     5s\n",
      "  33   4.79195913e+01  4.79175821e+01  1.55e-08 1.54e-09  1.65e-08     5s\n",
      "  34   4.79190918e+01  4.79185895e+01  1.04e-08 4.47e-10  4.12e-09     5s\n",
      "  35   4.79190071e+01  4.79188672e+01  4.93e-09 1.19e-10  1.15e-09     5s\n",
      "  36   4.79189784e+01  4.79189022e+01  1.69e-09 7.23e-11  6.25e-10     5s\n",
      "  37   4.79189691e+01  4.79189289e+01  7.75e-10 3.72e-11  3.29e-10     5s\n",
      "  38   4.79189619e+01  4.79189506e+01  8.93e-10 1.12e-11  9.29e-11     6s\n",
      "  39   4.79189617e+01  4.79189517e+01  2.66e-08 9.99e-12  8.27e-11     6s\n",
      "  40   4.79189617e+01  4.79189517e+01  3.94e-08 5.06e-11  8.21e-11     6s\n",
      "  41   4.79189614e+01  4.79189555e+01  5.62e-08 5.89e-09  4.86e-11     6s\n",
      "  42   4.79189614e+01  4.79189555e+01  5.62e-08 1.50e-09  4.85e-11     6s\n",
      "  43   4.79189614e+01  4.79189555e+01  8.41e-08 1.50e-09  4.85e-11     6s\n",
      "  44   4.79189609e+01  4.79189577e+01  6.58e-08 4.77e-10  2.65e-11     6s\n",
      "  45   4.79189609e+01  4.79189577e+01  6.44e-08 4.77e-10  2.64e-11     6s\n",
      "  46   4.79189609e+01  4.79189550e+01  1.60e-07 7.35e-07  2.64e-11     7s\n",
      "  47   4.79189609e+01  4.79189550e+01  1.60e-07 7.35e-07  2.64e-11     7s\n",
      "  48   4.79189609e+01  4.79189550e+01  2.06e-07 7.35e-07  2.64e-11     7s\n",
      "\n",
      "Barrier solved model in 48 iterations and 6.85 seconds\n",
      "Optimal objective 4.79189619e+01\n",
      "\n",
      "\n",
      "Root crossover log...\n",
      "\n",
      "    2370 DPushes remaining with DInf 0.0000000e+00                 7s\n",
      "       0 DPushes remaining with DInf 0.0000000e+00                 7s\n",
      "\n",
      "   12885 PPushes remaining with PInf 1.3549398e-02                 7s\n",
      "       0 PPushes remaining with PInf 7.9805728e-06                 7s\n",
      "\n",
      "  Push phase complete: Pinf 7.9805728e-06, Dinf 1.1763499e+01      7s\n",
      "\n",
      "\n",
      "Root simplex log...\n",
      "\n",
      "Iteration    Objective       Primal Inf.    Dual Inf.      Time\n",
      "   14678    4.7919002e+01   0.000000e+00   1.145622e+01      7s\n",
      "   15264    4.7919002e+01   0.000000e+00   0.000000e+00      8s\n",
      "   15264    4.7919002e+01   0.000000e+00   0.000000e+00      8s\n",
      "\n",
      "Root relaxation: objective 4.791900e+01, 15264 iterations, 7.47 seconds\n",
      "\n",
      "    Nodes    |    Current Node    |     Objective Bounds      |     Work\n",
      " Expl Unexpl |  Obj  Depth IntInf | Incumbent    BestBd   Gap | It/Node Time\n",
      "\n",
      "     0     0   47.91900    0   11          -   47.91900      -     -    8s\n",
      "H    0     0                      48.0074722   47.91900  0.18%     -   14s\n",
      "H    0     0                      48.0006336   47.91900  0.17%     -   14s\n",
      "     0     0   47.92382    0   15   48.00063   47.92382  0.16%     -   56s\n",
      "\n",
      "Explored 1 nodes (59278 simplex iterations) in 369.60 seconds\n",
      "Thread count was 3 (of 8 available processors)\n",
      "\n",
      "Solution count 1: 48.0006 \n",
      "\n",
      "Optimal solution found (tolerance 1.00e-04)\n",
      "Warning: max constraint violation (2.6727e-06) exceeds tolerance\n",
      "Best objective 4.800063361181e+01, best bound 4.800063361181e+01, gap 0.0000%\n",
      "\n",
      "Status: ok\n",
      "Return code: 0\n",
      "Message: Model was solved to optimality (subject to tolerances), and an optimal solution is available.\n",
      "Termination condition: optimal\n",
      "Termination message: Model was solved to optimality (subject to tolerances), and an optimal solution is available.\n",
      "Wall time: 369.6014747619629\n",
      "Error rc: 0\n",
      "Time: 370.4700241088867\n",
      "\n",
      "\n",
      "Name: x96946\n",
      "Lower bound: 48.00063361180536\n",
      "Upper bound: 48.00063361180536\n",
      "Number of objectives: 1\n",
      "Number of constraints: 85942\n",
      "Number of variables: 55618\n",
      "Number of binary variables: 52\n",
      "Number of integer variables: 52\n",
      "Number of continuous variables: 55566\n",
      "Number of nonzeros: 264787\n",
      "Sense: minimize\n",
      "\n",
      "Solve time: 374.7160189151764 sec.\n",
      "\n",
      "Processing optimization output...\n",
      "for SourceSinkModel ...    (0.9690sec)\n",
      "for ConversionModel ...    (0.7505sec)\n"
     ]
    },
    {
     "name": "stderr",
     "output_type": "stream",
     "text": [
      " c:\\programdata\\anaconda3\\envs\\gas-wasserstoff2\\lib\\site-packages\\FINE\\storage.py:1170: UserWarning:Charge and discharge at the same time for component Li-ion batteries\n",
      " c:\\programdata\\anaconda3\\envs\\gas-wasserstoff2\\lib\\site-packages\\FINE\\storage.py:1170: UserWarning:Charge and discharge at the same time for component Pumped hydro storage\n",
      " c:\\programdata\\anaconda3\\envs\\gas-wasserstoff2\\lib\\site-packages\\FINE\\storage.py:1170: UserWarning:Charge and discharge at the same time for component Salt caverns (biogas)\n",
      " c:\\programdata\\anaconda3\\envs\\gas-wasserstoff2\\lib\\site-packages\\FINE\\storage.py:1170: UserWarning:Charge and discharge at the same time for component Salt caverns (hydrogen)\n"
     ]
    },
    {
     "name": "stdout",
     "output_type": "stream",
     "text": [
      "for StorageModel ...       (2.2740sec)\n",
      "for TransmissionModel ...  (2.3160sec)\n",
      "\t\t(6.3220 sec)\n",
      "\n"
     ]
    }
   ],
   "source": [
    "esM.optimize(timeSeriesAggregation=True, optimizationSpecs='OptimalityTol=1e-3 method=2 cuts=0', solver=\"gurobi\")"
   ]
  },
  {
   "cell_type": "markdown",
   "source": [
    "# Create output file\n",
    "Creates for a specific `CO2_reductionTarget` an output file in folder `./results`."
   ],
   "metadata": {
    "collapsed": false
   }
  },
  {
   "cell_type": "code",
   "execution_count": 273,
   "outputs": [],
   "source": [
    "\n",
    "df1 = esM.getOptimizationSummary(\"SourceSinkModel\", outputLevel=2)\n",
    "df2 = esM.getOptimizationSummary(\"ConversionModel\", outputLevel=2)\n",
    "df3 = esM.getOptimizationSummary(\"StorageModel\", outputLevel=2)\n",
    "df4 = esM.getOptimizationSummary(\"TransmissionModel\", outputLevel=2).loc['Pipelines (hydrogen)']\n",
    "\n",
    "# Create a Pandas Excel writer using XlsxWriter as the engine.\n",
    "if not os.path.exists(\"./results\"):\n",
    "    os.mkdir(\"./results\")\n",
    "filename = \"./results/CO2_reduction_{}_percent.xlsx\".format(int(CO2_reductionTarget * 100))\n",
    "writer = pd.ExcelWriter(filename, engine='xlsxwriter')\n",
    "\n",
    "# Write each dataframe to a different worksheet.\n",
    "df1.to_excel(writer, sheet_name='Sources and Sink')\n",
    "df2.to_excel(writer, sheet_name='Conversion')\n",
    "df3.to_excel(writer, sheet_name='Storage')\n",
    "df4.to_excel(writer, sheet_name='Transmission')\n",
    "\n",
    "# Close the Pandas Excel writer and output the Excel file.\n",
    "writer.save()\n",
    "\n"
   ],
   "metadata": {
    "collapsed": false,
    "pycharm": {
     "name": "#%%\n"
    }
   }
  },
  {
   "cell_type": "markdown",
   "metadata": {},
   "source": [
    "# 9. Selected results output\n",
    "\n",
    "Plot locations (GeoPandas required)"
   ]
  },
  {
   "cell_type": "code",
   "execution_count": 274,
   "metadata": {
    "tags": [
     "nbval-skip"
    ]
   },
   "outputs": [],
   "source": [
    "# Import the geopandas package for plotting the locations\n",
    "import geopandas as gpd"
   ]
  },
  {
   "cell_type": "code",
   "execution_count": 275,
   "metadata": {
    "tags": [
     "nbval-skip"
    ]
   },
   "outputs": [
    {
     "ename": "NameError",
     "evalue": "name 'gpd' is not defined",
     "output_type": "error",
     "traceback": [
      "\u001B[1;31m---------------------------------------------------------------------------\u001B[0m",
      "\u001B[1;31mNameError\u001B[0m                                 Traceback (most recent call last)",
      "\u001B[1;32m<ipython-input-275-11dc5d65d089>\u001B[0m in \u001B[0;36m<module>\u001B[1;34m\u001B[0m\n\u001B[0;32m      1\u001B[0m \u001B[0mlocFilePath\u001B[0m \u001B[1;33m=\u001B[0m \u001B[0mos\u001B[0m\u001B[1;33m.\u001B[0m\u001B[0mpath\u001B[0m\u001B[1;33m.\u001B[0m\u001B[0mjoin\u001B[0m\u001B[1;33m(\u001B[0m\u001B[0mcwd\u001B[0m\u001B[1;33m,\u001B[0m \u001B[1;34m'InputData'\u001B[0m\u001B[1;33m,\u001B[0m \u001B[1;34m'SpatialData'\u001B[0m\u001B[1;33m,\u001B[0m\u001B[1;34m'ShapeFiles'\u001B[0m\u001B[1;33m,\u001B[0m \u001B[1;34m'clusteredRegions.shp'\u001B[0m\u001B[1;33m)\u001B[0m\u001B[1;33m\u001B[0m\u001B[1;33m\u001B[0m\u001B[0m\n\u001B[1;32m----> 2\u001B[1;33m \u001B[0mfig\u001B[0m\u001B[1;33m,\u001B[0m \u001B[0max\u001B[0m \u001B[1;33m=\u001B[0m \u001B[0mfn\u001B[0m\u001B[1;33m.\u001B[0m\u001B[0mplotLocations\u001B[0m\u001B[1;33m(\u001B[0m\u001B[0mlocFilePath\u001B[0m\u001B[1;33m,\u001B[0m \u001B[0mplotLocNames\u001B[0m\u001B[1;33m=\u001B[0m\u001B[1;32mTrue\u001B[0m\u001B[1;33m,\u001B[0m \u001B[0mindexColumn\u001B[0m\u001B[1;33m=\u001B[0m\u001B[1;34m'index'\u001B[0m\u001B[1;33m)\u001B[0m\u001B[1;33m\u001B[0m\u001B[1;33m\u001B[0m\u001B[0m\n\u001B[0m\u001B[0;32m      3\u001B[0m \u001B[1;33m\u001B[0m\u001B[0m\n",
      "\u001B[1;32mc:\\programdata\\anaconda3\\envs\\gas-wasserstoff2\\lib\\site-packages\\FINE\\IOManagement\\standardIO.py\u001B[0m in \u001B[0;36mplotLocations\u001B[1;34m(locationsShapeFileName, indexColumn, plotLocNames, crs, faceColor, edgeColor, fig, ax, linewidth, figsize, fontsize, save, fileName, dpi, **kwargs)\u001B[0m\n\u001B[0;32m    678\u001B[0m     \u001B[1;33m:\u001B[0m\u001B[0mtype\u001B[0m \u001B[0mdpi\u001B[0m\u001B[1;33m:\u001B[0m \u001B[0mscalar\u001B[0m \u001B[1;33m>\u001B[0m \u001B[1;36m0\u001B[0m\u001B[1;33m\u001B[0m\u001B[1;33m\u001B[0m\u001B[0m\n\u001B[0;32m    679\u001B[0m     \"\"\"\n\u001B[1;32m--> 680\u001B[1;33m     \u001B[0mgdf\u001B[0m \u001B[1;33m=\u001B[0m \u001B[0mgpd\u001B[0m\u001B[1;33m.\u001B[0m\u001B[0mread_file\u001B[0m\u001B[1;33m(\u001B[0m\u001B[0mlocationsShapeFileName\u001B[0m\u001B[1;33m)\u001B[0m\u001B[1;33m.\u001B[0m\u001B[0mto_crs\u001B[0m\u001B[1;33m(\u001B[0m\u001B[1;33m{\u001B[0m\u001B[1;34m'init'\u001B[0m\u001B[1;33m:\u001B[0m \u001B[0mcrs\u001B[0m\u001B[1;33m}\u001B[0m\u001B[1;33m)\u001B[0m\u001B[1;33m\u001B[0m\u001B[1;33m\u001B[0m\u001B[0m\n\u001B[0m\u001B[0;32m    681\u001B[0m \u001B[1;33m\u001B[0m\u001B[0m\n\u001B[0;32m    682\u001B[0m     \u001B[1;32mif\u001B[0m \u001B[0max\u001B[0m \u001B[1;32mis\u001B[0m \u001B[1;32mNone\u001B[0m\u001B[1;33m:\u001B[0m\u001B[1;33m\u001B[0m\u001B[1;33m\u001B[0m\u001B[0m\n",
      "\u001B[1;31mNameError\u001B[0m: name 'gpd' is not defined"
     ]
    }
   ],
   "source": [
    "locFilePath = os.path.join(cwd, 'InputData', 'SpatialData','ShapeFiles', 'clusteredRegions.shp')\n",
    "fig, ax = fn.plotLocations(locFilePath, plotLocNames=True, indexColumn='index')"
   ]
  },
  {
   "cell_type": "markdown",
   "metadata": {},
   "source": [
    "### Sources and Sink\n",
    "\n",
    "Show optimization summary"
   ]
  },
  {
   "cell_type": "code",
   "execution_count": null,
   "metadata": {
    "tags": [
     "nbval-skip"
    ]
   },
   "outputs": [],
   "source": [
    "esM.getOptimizationSummary(\"SourceSinkModel\", outputLevel=2)"
   ]
  },
  {
   "cell_type": "markdown",
   "metadata": {},
   "source": [
    "Plot installed capacities"
   ]
  },
  {
   "cell_type": "code",
   "execution_count": null,
   "metadata": {
    "tags": [
     "nbval-skip"
    ]
   },
   "outputs": [],
   "source": [
    "fig, ax = fn.plotLocationalColorMap(esM, 'Wind (offshore)', locFilePath, 'index', perArea=False)"
   ]
  },
  {
   "cell_type": "code",
   "execution_count": null,
   "metadata": {
    "tags": [
     "nbval-skip"
    ]
   },
   "outputs": [],
   "source": [
    "fig, ax = fn.plotLocationalColorMap(esM, 'Wind (onshore)', locFilePath, 'index', perArea=False)"
   ]
  },
  {
   "cell_type": "code",
   "execution_count": null,
   "metadata": {
    "tags": [
     "nbval-skip"
    ]
   },
   "outputs": [],
   "source": [
    "fig, ax = fn.plotLocationalColorMap(esM, 'PV', locFilePath, 'index', perArea=False)"
   ]
  },
  {
   "cell_type": "markdown",
   "metadata": {},
   "source": [
    "Plot operation time series (either one or two dimensional)"
   ]
  },
  {
   "cell_type": "code",
   "execution_count": null,
   "metadata": {
    "tags": [
     "nbval-skip"
    ]
   },
   "outputs": [],
   "source": [
    "fig, ax = fn.plotOperation(esM, 'Electricity demand', 'cluster_0')"
   ]
  },
  {
   "cell_type": "code",
   "execution_count": null,
   "metadata": {
    "tags": [
     "nbval-skip"
    ]
   },
   "outputs": [],
   "source": [
    "fig, ax = fn.plotOperationColorMap(esM, 'Electricity demand', 'cluster_0')"
   ]
  },
  {
   "cell_type": "markdown",
   "metadata": {},
   "source": [
    "### Conversion\n",
    "\n",
    "Show optimization summary"
   ]
  },
  {
   "cell_type": "code",
   "execution_count": null,
   "metadata": {
    "tags": [
     "nbval-skip"
    ]
   },
   "outputs": [],
   "source": [
    "esM.getOptimizationSummary(\"ConversionModel\", outputLevel=2)"
   ]
  },
  {
   "cell_type": "code",
   "execution_count": null,
   "metadata": {
    "tags": [
     "nbval-skip"
    ]
   },
   "outputs": [],
   "source": [
    "fig, ax = fn.plotLocationalColorMap(esM, 'Electrolyzer', locFilePath, 'index', perArea=False, zlabel='Installed capacity\\nin GW\\n')"
   ]
  },
  {
   "cell_type": "code",
   "execution_count": null,
   "metadata": {
    "tags": [
     "nbval-skip"
    ]
   },
   "outputs": [],
   "source": [
    "# TODO Weg?\n",
    "fig, ax = fn.plotOperationColorMap(esM, 'New CCGT plants (biogas)', 'cluster_2')"
   ]
  },
  {
   "cell_type": "markdown",
   "metadata": {},
   "source": [
    "### Storage\n",
    "\n",
    "Show optimization summary"
   ]
  },
  {
   "cell_type": "code",
   "execution_count": null,
   "metadata": {
    "tags": [
     "nbval-skip"
    ]
   },
   "outputs": [],
   "source": [
    "esM.getOptimizationSummary(\"StorageModel\", outputLevel=2)"
   ]
  },
  {
   "cell_type": "code",
   "execution_count": null,
   "metadata": {
    "tags": [
     "nbval-skip"
    ]
   },
   "outputs": [],
   "source": [
    "fig, ax = fn.plotOperationColorMap(esM, 'Li-ion batteries', 'cluster_2', \n",
    "                                   variableName='stateOfChargeOperationVariablesOptimum')"
   ]
  },
  {
   "cell_type": "code",
   "execution_count": null,
   "metadata": {
    "tags": [
     "nbval-skip"
    ]
   },
   "outputs": [],
   "source": [
    "fig, ax = fn.plotOperationColorMap(esM, 'Pumped hydro storage', 'cluster_2',\n",
    "                                  variableName='stateOfChargeOperationVariablesOptimum')"
   ]
  },
  {
   "cell_type": "code",
   "execution_count": null,
   "metadata": {
    "tags": [
     "nbval-skip"
    ]
   },
   "outputs": [],
   "source": [
    "# TODO Weg?\n",
    "fig, ax = fn.plotOperationColorMap(esM, 'Salt caverns (biogas)', 'cluster_2',\n",
    "                                  variableName='stateOfChargeOperationVariablesOptimum')"
   ]
  },
  {
   "cell_type": "code",
   "execution_count": null,
   "metadata": {
    "tags": [
     "nbval-skip"
    ]
   },
   "outputs": [],
   "source": [
    "fig, ax = fn.plotOperationColorMap(esM, 'Salt caverns (hydrogen)', 'cluster_2',\n",
    "                                  variableName='stateOfChargeOperationVariablesOptimum')"
   ]
  },
  {
   "cell_type": "markdown",
   "metadata": {},
   "source": [
    "## Transmission\n",
    "\n",
    "Show optimization summary"
   ]
  },
  {
   "cell_type": "code",
   "execution_count": null,
   "metadata": {
    "scrolled": true,
    "tags": [
     "nbval-skip"
    ]
   },
   "outputs": [],
   "source": [
    "esM.getOptimizationSummary(\"TransmissionModel\", outputLevel=2).loc['Pipelines (hydrogen)']"
   ]
  },
  {
   "cell_type": "markdown",
   "metadata": {},
   "source": [
    "Check that the shared capacity of the pipelines are not exceeded"
   ]
  },
  {
   "cell_type": "code",
   "execution_count": null,
   "metadata": {
    "tags": [
     "nbval-skip"
    ]
   },
   "outputs": [],
   "source": [
    "df=esM.componentModelingDict[\"TransmissionModel\"].capacityVariablesOptimum\n",
    "df.loc['Pipelines (biogas)']+df.loc['Pipelines (hydrogen)']"
   ]
  },
  {
   "cell_type": "markdown",
   "metadata": {},
   "source": [
    "Plot installed transmission capacities"
   ]
  },
  {
   "cell_type": "code",
   "execution_count": null,
   "metadata": {
    "tags": [
     "nbval-skip"
    ]
   },
   "outputs": [],
   "source": [
    "transFilePath = os.path.join(cwd, 'InputData', 'SpatialData','ShapeFiles', 'AClines.shp')\n",
    "\n",
    "fig, ax = fn.plotLocations(locFilePath, indexColumn='index')                                 \n",
    "fig, ax = fn.plotTransmission(esM, 'AC cables', transFilePath, loc0='bus0', loc1='bus1', fig=fig, ax=ax)"
   ]
  },
  {
   "cell_type": "code",
   "execution_count": null,
   "metadata": {
    "tags": [
     "nbval-skip"
    ]
   },
   "outputs": [],
   "source": [
    "transFilePath = os.path.join(cwd, 'InputData', 'SpatialData','ShapeFiles', 'DClines.shp')\n",
    "\n",
    "fig, ax = fn.plotLocations(locFilePath, indexColumn='index')                                 \n",
    "fig, ax = fn.plotTransmission(esM, 'DC cables', transFilePath, loc0='cluster0', loc1='cluster1', fig=fig, ax=ax)"
   ]
  },
  {
   "cell_type": "code",
   "execution_count": null,
   "metadata": {
    "tags": [
     "nbval-skip"
    ]
   },
   "outputs": [],
   "source": [
    "transFilePath = os.path.join(cwd, 'InputData', 'SpatialData','ShapeFiles', 'transmissionPipeline.shp')\n",
    "\n",
    "fig, ax = fn.plotLocations(locFilePath, indexColumn='index')                                 \n",
    "fig, ax = fn.plotTransmission(esM, 'Pipelines (hydrogen)', transFilePath, loc0='loc1', loc1='loc2',\n",
    "                              fig=fig, ax=ax)"
   ]
  },
  {
   "cell_type": "code",
   "execution_count": null,
   "metadata": {
    "tags": [
     "nbval-skip"
    ]
   },
   "outputs": [],
   "source": [
    "transFilePath = os.path.join(cwd, 'InputData', 'SpatialData','ShapeFiles', 'transmissionPipeline.shp')\n",
    "\n",
    "fig, ax = fn.plotLocations(locFilePath, indexColumn='index')                                 \n",
    "fig, ax = fn.plotTransmission(esM, 'Pipelines (biogas)', transFilePath, loc0='loc1', loc1='loc2',\n",
    "                              fig=fig, ax=ax)\n"
   ]
  },
  {
   "cell_type": "markdown",
   "source": [
    "# Postprocessing: Determine robust pipeline design"
   ],
   "metadata": {
    "collapsed": false
   }
  },
  {
   "cell_type": "code",
   "execution_count": null,
   "outputs": [],
   "source": [
    "# Import module expansion \"robustPipelineSizing\"\n",
    "from FINE.expansionModules import robustPipelineSizing"
   ],
   "metadata": {
    "collapsed": false,
    "pycharm": {
     "name": "#%%\n"
    }
   }
  },
  {
   "cell_type": "code",
   "execution_count": null,
   "outputs": [],
   "source": [
    "# 1. Option to get the injection and withdrawal rates for the pipeline sizing (in kg/s)\n",
    "rates = robustPipelineSizing.getInjectionWithdrawalRates(componentName='Pipelines (hydrogen)',esM=esM) # in GWh\n",
    "# Convert GWh to kg/s: GWh * (kWh/GWh) * (kg/kWh) * (1/ timestepLengthInSeconds) with timestepLengthInSeconds\n",
    "# being 3600 seconds for the present example\n",
    "rates = rates * (10 ** 6) * (1/33.32) * (1/3600)\n",
    "rates.head()"
   ],
   "metadata": {
    "collapsed": false,
    "pycharm": {
     "name": "#%%\n"
    }
   }
  },
  {
   "cell_type": "code",
   "execution_count": null,
   "outputs": [],
   "source": [
    "# 2. Option to get the injection and withdrawal rates for the pipeline sizing (in kg/s)\n",
    "op = esM.componentModelingDict[esM.componentNames['Pipelines (hydrogen)']].\\\n",
    "    getOptimalValues('operationVariablesOptimum')['values'].loc['Pipelines (hydrogen)']\n",
    "rates = robustPipelineSizing.getInjectionWithdrawalRates(operationVariablesOptimumData=op) # in GWh\n",
    "# Convert GWh to kg/s: GWh * (kWh/GWh) * (kg/kWh) * (1/ timestepLengthInSeconds) with timestepLengthInSeconds\n",
    "# being 3600 seconds for the present example\n",
    "rates = rates * (10 ** 6) * (1/33.32) * (1/3600)\n",
    "rates.head()"
   ],
   "metadata": {
    "collapsed": false,
    "pycharm": {
     "name": "#%%\n"
    }
   }
  },
  {
   "cell_type": "code",
   "execution_count": null,
   "outputs": [],
   "source": [
    "# Determine unique withdrawal and injection scenarios to save computation time\n",
    "rates = rates.drop_duplicates()\n",
    "rates.head()"
   ],
   "metadata": {
    "collapsed": false,
    "pycharm": {
     "name": "#%%\n"
    }
   }
  },
  {
   "cell_type": "code",
   "execution_count": null,
   "outputs": [],
   "source": [
    "# Get the lengths of the pipeline (in m)\n",
    "lengths = robustPipelineSizing.getNetworkLengthsFromESM('Pipelines (hydrogen)', esM)\n",
    "lengths = lengths * 1e3\n",
    "lengths.head()"
   ],
   "metadata": {
    "collapsed": false,
    "pycharm": {
     "name": "#%%\n"
    }
   }
  },
  {
   "cell_type": "code",
   "execution_count": null,
   "outputs": [],
   "source": [
    "# Specify minimum and maximum pressure levels for all injection and withdrawal nodes (in bar)\n",
    "p_min_nodes = {'cluster_5': 60, 'cluster_3': 50, 'cluster_7': 50, 'cluster_1': 60, 'cluster_6': 50,\n",
    "               'cluster_4': 50, 'cluster_0': 50, 'cluster_2': 50}\n",
    "\n",
    "p_max_nodes = {'cluster_5': 100, 'cluster_3': 100, 'cluster_7': 100, 'cluster_1': 90, 'cluster_6': 100,\n",
    "               'cluster_4': 100, 'cluster_0': 100, 'cluster_2': 100}"
   ],
   "metadata": {
    "collapsed": false,
    "pycharm": {
     "name": "#%%\n"
    }
   }
  },
  {
   "cell_type": "code",
   "execution_count": null,
   "outputs": [],
   "source": [
    "# Specify the investment cost of the available diameter classes in €/m\n",
    "\n",
    "# For single pipes\n",
    "dic_diameter_costs = {0.1063: 37.51, 0.1307: 38.45, 0.1593: 39.64, 0.2065: 42.12,\n",
    "                      0.2588: 45.26, 0.3063: 48.69, 0.3356: 51.07, 0.3844: 55.24,\n",
    "                      0.432: 59.86, 0.4796: 64.98, 0.527: 70.56, 0.578: 76.61,\n",
    "                      0.625: 82.99, 0.671: 89.95, 0.722: 97.38, 0.7686: 105.28,\n",
    "                      0.814: 113.63, 0.864: 122.28, 0.915: 131.56, 0.96: 141.3,\n",
    "                      1.011: 151.5, 1.058: 162.17, 1.104: 173.08, 1.155: 184.67,\n",
    "                      1.249: 209.24, 1.342: 235.4, 1.444: 263.66, 1.536: 293.78}\n",
    "\n",
    "# For parallel pipes\n",
    "dic_candidateMergedDiam_costs={1.342: 235.4, 1.444: 263.66, 1.536: 293.78}"
   ],
   "metadata": {
    "collapsed": false,
    "pycharm": {
     "name": "#%%\n"
    }
   }
  },
  {
   "cell_type": "code",
   "execution_count": null,
   "outputs": [],
   "source": [
    "# Choose if a robust pipeline desin should be determined or the design should be optimized based on the\n",
    "# given injection and withdrawal rates only\n",
    "robust = True"
   ],
   "metadata": {
    "collapsed": false,
    "pycharm": {
     "name": "#%%\n"
    }
   }
  },
  {
   "cell_type": "markdown",
   "source": [
    "### Determine design for simple network structure"
   ],
   "metadata": {
    "collapsed": false
   }
  },
  {
   "cell_type": "code",
   "execution_count": null,
   "outputs": [],
   "source": [
    "# Compute with 7 threads and simple network structure\n",
    "\n",
    "dic_arc_optimalDiameters, dic_scen_PressLevels, dic_scen_MaxViolPress, dic_timeStep_PressLevels, \\\n",
    "    dic_timeStep_MaxViolPress, _ = robustPipelineSizing.determineDiscretePipelineDesign(\n",
    "        robust=robust, injectionWithdrawalRates=rates,\n",
    "        distances=lengths, dic_node_minPress=p_min_nodes, dic_node_maxPress=p_max_nodes,\n",
    "        dic_diameter_costs=dic_diameter_costs, dic_candidateMergedDiam_costs=dic_candidateMergedDiam_costs,\n",
    "        threads=7)"
   ],
   "metadata": {
    "collapsed": false,
    "pycharm": {
     "name": "#%%\n"
    }
   }
  },
  {
   "cell_type": "code",
   "execution_count": null,
   "outputs": [],
   "source": [
    "# Compute with 2 threads and simple network structure\n",
    "\n",
    "dic_arc_optimalDiameters, dic_scen_PressLevels, dic_scen_MaxViolPress, dic_timeStep_PressLevels, \\\n",
    "    dic_timeStep_MaxViolPress, _ = robustPipelineSizing.determineDiscretePipelineDesign(\n",
    "        robust=robust, injectionWithdrawalRates=rates,\n",
    "        distances=lengths, dic_node_minPress=p_min_nodes, dic_node_maxPress=p_max_nodes,\n",
    "        dic_diameter_costs=dic_diameter_costs, dic_candidateMergedDiam_costs=dic_candidateMergedDiam_costs,\n",
    "        threads=2)\n",
    "\n",
    "print(\"Finished Discrete Pipeline Optimization\")"
   ],
   "metadata": {
    "collapsed": false,
    "pycharm": {
     "name": "#%%\n"
    }
   }
  },
  {
   "cell_type": "markdown",
   "source": [
    "### Determine design for more complex network structure"
   ],
   "metadata": {
    "collapsed": false
   }
  },
  {
   "cell_type": "code",
   "execution_count": null,
   "outputs": [],
   "source": [
    "# Redfine minimum and maximum pressure levels to reduce robust scenario computation time\n",
    "p_min_nodes = {'cluster_5': 50, 'cluster_3': 50, 'cluster_7': 50, 'cluster_1': 50, 'cluster_6': 50,\n",
    "               'cluster_4': 50, 'cluster_0': 50, 'cluster_2': 50}\n",
    "\n",
    "p_max_nodes = {'cluster_5': 100, 'cluster_3': 100, 'cluster_7': 100, 'cluster_1': 100, 'cluster_6': 100,\n",
    "               'cluster_4': 100, 'cluster_0': 100, 'cluster_2': 100}"
   ],
   "metadata": {
    "collapsed": false,
    "pycharm": {
     "name": "#%%\n"
    }
   }
  },
  {
   "cell_type": "code",
   "execution_count": null,
   "outputs": [],
   "source": [
    "# Get more complex network structure\n",
    "regColumn1 = 'loc1'\n",
    "regColumn2 = 'loc2'\n",
    "\n",
    "dic_node_minPress=p_min_nodes\n",
    "dic_node_maxPress=p_max_nodes\n",
    "\n",
    "maxPipeLength= 35 * 1e3\n",
    "minPipeLength= 1 * 1e3\n",
    "\n",
    "distances_new, dic_node_minPress_new, dic_node_maxPress_new, gdfNodes, gdfEdges = \\\n",
    "    robustPipelineSizing.getRefinedShapeFile(transFilePath, regColumn1, regColumn2, dic_node_minPress,\n",
    "                                             dic_node_maxPress, minPipeLength, maxPipeLength)\n",
    "\n",
    "fig, ax = fn.plotLocations(locFilePath, indexColumn='index')\n",
    "\n",
    "gdfEdges.plot(ax=ax, color='grey')\n",
    "gdfNodes.plot(ax=ax, color='red', markersize=2)\n",
    "ax.axis('off')\n",
    "\n",
    "plt.show()"
   ],
   "metadata": {
    "collapsed": false,
    "pycharm": {
     "name": "#%%\n"
    }
   }
  },
  {
   "cell_type": "code",
   "execution_count": null,
   "outputs": [],
   "source": [
    "# Determine optimal pipeline design with seven threads\n",
    "dic_arc_optimalDiameters, dic_scen_PressLevels, dic_scen_MaxViolPress, dic_timeStep_PressLevels, \\\n",
    "           dic_timeStep_MaxViolPress, gdfEdges = robustPipelineSizing.determineDiscretePipelineDesign(\n",
    "        robust=robust, injectionWithdrawalRates=rates,\n",
    "        distances=distances_new, dic_node_minPress=dic_node_minPress_new, dic_node_maxPress=dic_node_maxPress_new,\n",
    "        dic_diameter_costs=dic_diameter_costs, dic_candidateMergedDiam_costs=dic_candidateMergedDiam_costs,\n",
    "        gdfEdges=gdfEdges, regColumn1='nodeIn', regColumn2='nodeOut', threads=7, solver='gurobi')"
   ],
   "metadata": {
    "collapsed": false,
    "pycharm": {
     "name": "#%%\n"
    }
   }
  },
  {
   "cell_type": "markdown",
   "source": [
    "### Plot scenario output"
   ],
   "metadata": {
    "collapsed": false
   }
  },
  {
   "cell_type": "code",
   "execution_count": null,
   "outputs": [],
   "source": [
    "# Get regions shapefile as geopandas GeoDataFrame\n",
    "gdf_regions = gpd.read_file(locFilePath)"
   ],
   "metadata": {
    "collapsed": false,
    "pycharm": {
     "name": "#%%\n"
    }
   }
  },
  {
   "cell_type": "code",
   "execution_count": null,
   "outputs": [],
   "source": [
    "# Visualize pipeline diameters\n",
    "fig, ax =robustPipelineSizing.plotOptimizedNetwork(gdfEdges, gdf_regions=gdf_regions, figsize=(5,5),\n",
    "    line_scaling=0.8)"
   ],
   "metadata": {
    "collapsed": false,
    "pycharm": {
     "name": "#%%\n"
    }
   }
  },
  {
   "cell_type": "code",
   "execution_count": null,
   "outputs": [],
   "source": [
    "# Get a minimum and maximum pressure scenario\n",
    "dic_timeStep_PressLevels = pd.DataFrame.from_dict(dic_scen_PressLevels)\n",
    "\n",
    "scen_min = dic_timeStep_PressLevels.mean().min()\n",
    "scen_min = dic_timeStep_PressLevels.loc[:,dic_timeStep_PressLevels.mean() == scen_min].iloc[:,0]\n",
    "scen_max = dic_timeStep_PressLevels.mean().max()\n",
    "scen_max = dic_timeStep_PressLevels.loc[:,dic_timeStep_PressLevels.mean() == scen_max].iloc[:,0]"
   ],
   "metadata": {
    "collapsed": false,
    "pycharm": {
     "name": "#%%\n"
    }
   }
  },
  {
   "cell_type": "code",
   "execution_count": null,
   "outputs": [],
   "source": [
    "fig, ax =robustPipelineSizing.plotOptimizedNetwork(gdfEdges, gdf_regions=gdf_regions, figsize=(5,5),\n",
    "    line_scaling=0.9, pressureLevels=scen_min)"
   ],
   "metadata": {
    "collapsed": false,
    "pycharm": {
     "name": "#%%\n"
    }
   }
  },
  {
   "cell_type": "code",
   "execution_count": null,
   "outputs": [],
   "source": [
    "fig, ax =robustPipelineSizing.plotOptimizedNetwork(gdfEdges, gdf_regions=gdf_regions, figsize=(5,5),\n",
    "    line_scaling=0.9, pressureLevels=scen_max)"
   ],
   "metadata": {
    "collapsed": false,
    "pycharm": {
     "name": "#%%\n"
    }
   }
  }
 ],
 "metadata": {
  "anaconda-cloud": {},
  "jupytext": {
   "encoding": "# -*- coding: utf-8 -*-",
   "formats": "ipynb,py:percent"
  },
  "kernelspec": {
   "display_name": "Python 3 (ipykernel)",
   "language": "python",
   "name": "python3"
  },
  "language_info": {
   "codemirror_mode": {
    "name": "ipython",
    "version": 3
   },
   "file_extension": ".py",
   "mimetype": "text/x-python",
   "name": "python",
   "nbconvert_exporter": "python",
   "pygments_lexer": "ipython3",
   "version": "3.8.12"
  }
 },
 "nbformat": 4,
 "nbformat_minor": 4
}